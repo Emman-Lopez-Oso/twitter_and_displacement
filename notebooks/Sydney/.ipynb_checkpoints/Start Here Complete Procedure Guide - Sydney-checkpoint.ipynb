{
 "cells": [
  {
   "cell_type": "markdown",
   "metadata": {},
   "source": [
    "__author__ = 'Ricardo Pasquini'\n",
    "\n",
    "# Counting tweets at the hexagon level. Complete procedure\n",
    "\n",
    "Overview: This code counts georeferenced tweets at the hexagon level. Hexagons are uniquely identified in space. We use Uber's H3 library for this purpose.  \n",
    "The code  also performs a home location prediction for each user. This allows later counting tweets by whether they were tweeted by residents, residents of neighbors hexagons, or non-residents.\n",
    "The project was designed to be scalable to millions of tweets. The process is done with MongoDB.\n",
    "\n",
    "By default the project generates the following collections on the Mongo database:\n",
    "\n",
    "tweets: Collection containing tweets. This collection is modified by incorporating the corresponding hex id. \\\n",
    "users: Collection containing users. This collection is modified by incorporating the home location data.\\\n",
    "hexcounts: Collection containing counts of tweets.\n"
   ]
  },
  {
   "cell_type": "code",
   "execution_count": 24,
   "metadata": {},
   "outputs": [],
   "source": [
    "import sys\n",
    "sys.path.append(\"../../py_func_NoEnvReq\") \n",
    "import databasepopulation\n",
    "import communicationwmongo as commu\n",
    "import home_location as home\n",
    "import analysis as a\n",
    "import pymongo\n",
    "import pandas as pd\n",
    "import my_h3_functions as myh3"
   ]
  },
  {
   "cell_type": "code",
   "execution_count": 25,
   "metadata": {},
   "outputs": [
    {
     "data": {
      "text/plain": [
       "<module 'my_h3_functions' from '../../py_func_NoEnvReq\\\\my_h3_functions.py'>"
      ]
     },
     "execution_count": 25,
     "metadata": {},
     "output_type": "execute_result"
    }
   ],
   "source": [
    "import importlib\n",
    "importlib.reload(databasepopulation)\n",
    "importlib.reload(home)\n",
    "importlib.reload(a)\n",
    "importlib.reload(myh3)"
   ]
  },
  {
   "cell_type": "markdown",
   "metadata": {},
   "source": [
    "# Counting tweets at the hexagon level. Complete procedure"
   ]
  },
  {
   "cell_type": "markdown",
   "metadata": {},
   "source": [
    "This version of the code assumes that a different database will be used for each city.\n"
   ]
  },
  {
   "cell_type": "markdown",
   "metadata": {},
   "source": [
    "If necessary check your current location with the following command:"
   ]
  },
  {
   "cell_type": "code",
   "execution_count": 26,
   "metadata": {},
   "outputs": [
    {
     "data": {
      "text/plain": [
       "'C:\\\\Users\\\\emman\\\\Documents\\\\git\\\\twitter_and_displacement\\\\notebooks\\\\Sydney'"
      ]
     },
     "execution_count": 26,
     "metadata": {},
     "output_type": "execute_result"
    }
   ],
   "source": [
    "pwd"
   ]
  },
  {
   "cell_type": "markdown",
   "metadata": {},
   "source": [
    "# 0. Connect to Mongo and define a specific database\n",
    "\n",
    "By default connect to Mongo running on a localhost. \n",
    "Requires manually changing the parameters if working on a cloud environment\n",
    "\n",
    "I will use the name buenosaires as the db example. Recall each database for each city.\n"
   ]
  },
  {
   "cell_type": "code",
   "execution_count": 34,
   "metadata": {},
   "outputs": [],
   "source": [
    "db=commu.connecttoLocaldb(database='sydney')"
   ]
  },
  {
   "cell_type": "code",
   "execution_count": 35,
   "metadata": {},
   "outputs": [
    {
     "data": {
      "text/plain": [
       "Collection(Database(MongoClient(host=['localhost:27017'], document_class=dict, tz_aware=False, connect=True), 'sydney'), 'sydney')"
      ]
     },
     "execution_count": 35,
     "metadata": {},
     "output_type": "execute_result"
    }
   ],
   "source": [
    "db.sydney"
   ]
  },
  {
   "cell_type": "markdown",
   "metadata": {},
   "source": [
    "# 1. Raw data to Mongo\n",
    "This function populates the files containing tweets into Mongo.\n",
    "Assumes files are named like: ba_2012.csv, etc.\n",
    "Choose start and end years.\n"
   ]
  },
  {
   "cell_type": "code",
   "execution_count": 9,
   "metadata": {},
   "outputs": [
    {
     "name": "stdout",
     "output_type": "stream",
     "text": [
      "Now populating year  2012\n",
      "process completed\n"
     ]
    }
   ],
   "source": [
    "databasepopulation.populatetweets(db, path='/Users/emman/Box/Twitter data/Asia/Sydney/', cityprefix='sydney', yearstart=2012, yearend=2012)"
   ]
  },
  {
   "cell_type": "code",
   "execution_count": null,
   "metadata": {},
   "outputs": [],
   "source": [
    "db.tweets.update({},{'$rename':{\"latitude\":\"lat\",\"longitude\":\"lon\"}}, False,True,True)"
   ]
  },
  {
   "cell_type": "markdown",
   "metadata": {},
   "source": [
    "# 2. Adding Hexids to tweets \n",
    "This function includes hexagons ids to each tweet.  "
   ]
  },
  {
   "cell_type": "code",
   "execution_count": null,
   "metadata": {},
   "outputs": [],
   "source": [
    "databasepopulation.addhexjob(db)"
   ]
  },
  {
   "cell_type": "code",
   "execution_count": null,
   "metadata": {},
   "outputs": [],
   "source": [
    "# the following is a check and a fix because I think the previous process did not run completely, probably a bug.\n",
    "# are there any other documents that were not processed?\n",
    "len(list(db.tweets.find({ \"hex\" : { \"$exists\" : False } })))"
   ]
  },
  {
   "cell_type": "code",
   "execution_count": null,
   "metadata": {},
   "outputs": [],
   "source": [
    "#Process any missing document\n",
    "cursor=db.tweets.find({ \"hex\" : { \"$exists\" : False } })\n",
    "df = pd.DataFrame(list(cursor))\n",
    "requests = databasepopulation.add_hexs_and_prepare_bulk_request(df, dataformat='raw')\n",
    "try:\n",
    "    db.tweets.bulk_write(requests, ordered=False)\n",
    "except BulkWriteError as bwe:\n",
    "    print(bwe.details)"
   ]
  },
  {
   "cell_type": "markdown",
   "metadata": {},
   "source": [
    "# 3. Database performance task: Add indexes to tweets"
   ]
  },
  {
   "cell_type": "code",
   "execution_count": null,
   "metadata": {},
   "outputs": [],
   "source": [
    "databasepopulation.create_indexes(db)"
   ]
  },
  {
   "cell_type": "markdown",
   "metadata": {},
   "source": [
    "# 4. Populate Users Collection"
   ]
  },
  {
   "cell_type": "code",
   "execution_count": null,
   "metadata": {},
   "outputs": [],
   "source": [
    "databasepopulation.populate_users_collection(db)"
   ]
  },
  {
   "cell_type": "markdown",
   "metadata": {},
   "source": [
    "# 5. Find Home Job for each user id in the database"
   ]
  },
  {
   "cell_type": "code",
   "execution_count": null,
   "metadata": {},
   "outputs": [],
   "source": [
    "print('Users with home location identified', db.users.count_documents({'hex9': { '$exists': True} }))\n"
   ]
  },
  {
   "cell_type": "markdown",
   "metadata": {},
   "source": [
    "# 6 Generate a Hex-level collection including all hexs in the database\n",
    "\n",
    "By default the collection include as ids only the ids of hexagons at resolution 9\n",
    "Note that many types of hexogons could coexist in a same collection because hex identifiers are unique. This is not implemented in the current version of the code, though."
   ]
  },
  {
   "cell_type": "code",
   "execution_count": null,
   "metadata": {},
   "outputs": [],
   "source": [
    "home.job_findhomeandpopulate_hex9(db)"
   ]
  },
  {
   "cell_type": "code",
   "execution_count": null,
   "metadata": {},
   "outputs": [],
   "source": [
    "databasepopulation.populate_hexcounts_collection(db)"
   ]
  },
  {
   "cell_type": "markdown",
   "metadata": {},
   "source": [
    "# 7 Count tweets in each hex by residents and non-residents"
   ]
  },
  {
   "cell_type": "code",
   "execution_count": null,
   "metadata": {},
   "outputs": [],
   "source": [
    "import analysis as a"
   ]
  },
  {
   "cell_type": "code",
   "execution_count": null,
   "metadata": {},
   "outputs": [],
   "source": [
    "#a.countandpopulatejob(db)"
   ]
  },
  {
   "cell_type": "markdown",
   "metadata": {},
   "source": [
    "# 8 Query to the DB to create the counts dataframe "
   ]
  },
  {
   "cell_type": "code",
   "execution_count": null,
   "metadata": {},
   "outputs": [],
   "source": [
    "import time \n",
    "start=time.time()\n",
    "df=a.hexcountsresults_to_df(db, save=False)\n",
    "print(time.time()-start)\n",
    "# if save=True then saves resulting dataframe a pickle in ./hexcountsdf.pkl"
   ]
  },
  {
   "cell_type": "code",
   "execution_count": null,
   "metadata": {},
   "outputs": [],
   "source": [
    "df.info()"
   ]
  },
  {
   "cell_type": "code",
   "execution_count": null,
   "metadata": {},
   "outputs": [],
   "source": [
    "#df.to_csv('C:/Users/Emman/Desktop/Sydney_Hexes_RP.csv')"
   ]
  },
  {
   "cell_type": "markdown",
   "metadata": {},
   "source": [
    "# Funcions for Spatial Analysis\n",
    "### A. Transform the dataframe with hexids into a geodataframe with hexagons as geometries"
   ]
  },
  {
   "cell_type": "code",
   "execution_count": null,
   "metadata": {
    "scrolled": false
   },
   "outputs": [],
   "source": [
    "hexgdf = myh3.df_with_hexid_to_gdf(df, hexcolname='_id')\n",
    "hexgdf.plot()"
   ]
  },
  {
   "cell_type": "code",
   "execution_count": null,
   "metadata": {},
   "outputs": [],
   "source": [
    "hexgdf.head()"
   ]
  },
  {
   "cell_type": "markdown",
   "metadata": {},
   "source": [
    "## B. Transform the dataframe with hexids into a geodataframe with centoids points as geometries\n",
    "\n",
    "#### Points can be used for spatial joins."
   ]
  },
  {
   "cell_type": "code",
   "execution_count": null,
   "metadata": {},
   "outputs": [],
   "source": [
    "centroidsgdf = myh3.df_with_hexid_to_centroids_gdf(hexgdf, hexcolname='_id')\n",
    "centroidsgdf.plot()"
   ]
  },
  {
   "cell_type": "code",
   "execution_count": null,
   "metadata": {},
   "outputs": [],
   "source": [
    "smooth_hexgdf = myh3.kring_smoother(hexgdf, hexcolname='_id',  metric_col='nonresidents')"
   ]
  },
  {
   "cell_type": "code",
   "execution_count": null,
   "metadata": {},
   "outputs": [],
   "source": [
    "smooth_hexgdf.info()"
   ]
  },
  {
   "cell_type": "code",
   "execution_count": null,
   "metadata": {},
   "outputs": [],
   "source": [
    "smooth_hexgdf.plot(column='nonresidents')"
   ]
  },
  {
   "cell_type": "code",
   "execution_count": null,
   "metadata": {},
   "outputs": [],
   "source": []
  }
 ],
 "metadata": {
  "kernelspec": {
   "display_name": "Python 3",
   "language": "python",
   "name": "python3"
  },
  "language_info": {
   "codemirror_mode": {
    "name": "ipython",
    "version": 3
   },
   "file_extension": ".py",
   "mimetype": "text/x-python",
   "name": "python",
   "nbconvert_exporter": "python",
   "pygments_lexer": "ipython3",
   "version": "3.7.9"
  }
 },
 "nbformat": 4,
 "nbformat_minor": 4
}
