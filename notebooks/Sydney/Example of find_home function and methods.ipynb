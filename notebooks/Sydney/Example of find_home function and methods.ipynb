{
 "cells": [
  {
   "cell_type": "markdown",
   "metadata": {},
   "source": [
    "# Example of findhome function"
   ]
  },
  {
   "cell_type": "code",
   "execution_count": 2,
   "metadata": {},
   "outputs": [],
   "source": [
    "import sys\n",
    "sys.path.append(\"../\") \n",
    "import communicationwmongo as commu\n",
    "import home_location as home\n",
    "# open mongo connection\n",
    "db=commu.connecttoLocaldb(database='Twitter_Data')"
   ]
  },
  {
   "cell_type": "code",
   "execution_count": 3,
   "metadata": {},
   "outputs": [
    {
     "data": {
      "text/plain": [
       "<module 'home_location' from '..\\\\home_location.py'>"
      ]
     },
     "execution_count": 3,
     "metadata": {},
     "output_type": "execute_result"
    }
   ],
   "source": [
    "import importlib\n",
    "importlib.reload(home)"
   ]
  },
  {
   "cell_type": "code",
   "execution_count": 4,
   "metadata": {},
   "outputs": [],
   "source": [
    "# cursor for users id\n",
    "cursor=db.users.find()"
   ]
  },
  {
   "cell_type": "code",
   "execution_count": 5,
   "metadata": {},
   "outputs": [],
   "source": [
    "uid=cursor.next()['u_id']"
   ]
  },
  {
   "cell_type": "code",
   "execution_count": 6,
   "metadata": {},
   "outputs": [
    {
     "data": {
      "text/plain": [
       "718"
      ]
     },
     "execution_count": 6,
     "metadata": {},
     "output_type": "execute_result"
    }
   ],
   "source": [
    "uid"
   ]
  },
  {
   "cell_type": "markdown",
   "metadata": {},
   "source": [
    "Find home function with map option to True"
   ]
  },
  {
   "cell_type": "code",
   "execution_count": 7,
   "metadata": {},
   "outputs": [
    {
     "name": "stdout",
     "output_type": "stream",
     "text": [
      "False\n"
     ]
    }
   ],
   "source": [
    "result=home.findhome(db,uid, map=True)\n",
    "print(result.completed)"
   ]
  },
  {
   "cell_type": "markdown",
   "metadata": {},
   "source": [
    "tweetsfromhome method"
   ]
  },
  {
   "cell_type": "code",
   "execution_count": 20,
   "metadata": {},
   "outputs": [
    {
     "data": {
      "text/html": [
       "<div>\n",
       "<style scoped>\n",
       "    .dataframe tbody tr th:only-of-type {\n",
       "        vertical-align: middle;\n",
       "    }\n",
       "\n",
       "    .dataframe tbody tr th {\n",
       "        vertical-align: top;\n",
       "    }\n",
       "\n",
       "    .dataframe thead th {\n",
       "        text-align: right;\n",
       "    }\n",
       "</style>\n",
       "<table border=\"1\" class=\"dataframe\">\n",
       "  <thead>\n",
       "    <tr style=\"text-align: right;\">\n",
       "      <th></th>\n",
       "      <th>created_at</th>\n",
       "      <th>text</th>\n",
       "    </tr>\n",
       "  </thead>\n",
       "  <tbody>\n",
       "    <tr>\n",
       "      <th>9</th>\n",
       "      <td>1347121107000</td>\n",
       "      <td>#JonasArgentina Ready For Jonas Single</td>\n",
       "    </tr>\n",
       "    <tr>\n",
       "      <th>10</th>\n",
       "      <td>1347121245000</td>\n",
       "      <td>#JonasArgentina tiene que ser TT mundial x fav...</td>\n",
       "    </tr>\n",
       "    <tr>\n",
       "      <th>13</th>\n",
       "      <td>1347119869000</td>\n",
       "      <td>Ready For Jonas Single :“)</td>\n",
       "    </tr>\n",
       "    <tr>\n",
       "      <th>14</th>\n",
       "      <td>1347121174000</td>\n",
       "      <td>#JonasArgentina Ready For Jonas Single LOS NEC...</td>\n",
       "    </tr>\n",
       "    <tr>\n",
       "      <th>16</th>\n",
       "      <td>1347124037000</td>\n",
       "      <td>@_silvita_ te podes ir bien a la mierda me chu...</td>\n",
       "    </tr>\n",
       "  </tbody>\n",
       "</table>\n",
       "</div>"
      ],
      "text/plain": [
       "       created_at                                               text\n",
       "9   1347121107000             #JonasArgentina Ready For Jonas Single\n",
       "10  1347121245000  #JonasArgentina tiene que ser TT mundial x fav...\n",
       "13  1347119869000                         Ready For Jonas Single :“)\n",
       "14  1347121174000  #JonasArgentina Ready For Jonas Single LOS NEC...\n",
       "16  1347124037000  @_silvita_ te podes ir bien a la mierda me chu..."
      ]
     },
     "execution_count": 20,
     "metadata": {},
     "output_type": "execute_result"
    }
   ],
   "source": [
    "result.tweetsfromhome()[['created_at','text']].head()"
   ]
  },
  {
   "cell_type": "code",
   "execution_count": 7,
   "metadata": {},
   "outputs": [
    {
     "data": {
      "text/html": [
       "<div>\n",
       "<style scoped>\n",
       "    .dataframe tbody tr th:only-of-type {\n",
       "        vertical-align: middle;\n",
       "    }\n",
       "\n",
       "    .dataframe tbody tr th {\n",
       "        vertical-align: top;\n",
       "    }\n",
       "\n",
       "    .dataframe thead th {\n",
       "        text-align: right;\n",
       "    }\n",
       "</style>\n",
       "<table border=\"1\" class=\"dataframe\">\n",
       "  <thead>\n",
       "    <tr style=\"text-align: right;\">\n",
       "      <th></th>\n",
       "      <th>created_at</th>\n",
       "      <th>text</th>\n",
       "    </tr>\n",
       "  </thead>\n",
       "  <tbody>\n",
       "    <tr>\n",
       "      <th>7</th>\n",
       "      <td>1346870042000</td>\n",
       "      <td>Tengo de fondo de pantalla un cafe de Starbuck...</td>\n",
       "    </tr>\n",
       "    <tr>\n",
       "      <th>8</th>\n",
       "      <td>1346869237000</td>\n",
       "      <td>Alto quilombo se armo con las notas de quimica...</td>\n",
       "    </tr>\n",
       "    <tr>\n",
       "      <th>11</th>\n",
       "      <td>1346869572000</td>\n",
       "      <td>@RadioTKM #MiSuperHeroeFavoritoEs  Chizy Araña...</td>\n",
       "    </tr>\n",
       "    <tr>\n",
       "      <th>12</th>\n",
       "      <td>1346875066000</td>\n",
       "      <td>Alguien tiene WhatsApp??? Es q yo tengo y nadi...</td>\n",
       "    </tr>\n",
       "    <tr>\n",
       "      <th>21</th>\n",
       "      <td>1349806307000</td>\n",
       "      <td>Que onda con mi celu.. Pongo musica y suena pu...</td>\n",
       "    </tr>\n",
       "  </tbody>\n",
       "</table>\n",
       "</div>"
      ],
      "text/plain": [
       "       created_at                                               text\n",
       "7   1346870042000  Tengo de fondo de pantalla un cafe de Starbuck...\n",
       "8   1346869237000  Alto quilombo se armo con las notas de quimica...\n",
       "11  1346869572000  @RadioTKM #MiSuperHeroeFavoritoEs  Chizy Araña...\n",
       "12  1346875066000  Alguien tiene WhatsApp??? Es q yo tengo y nadi...\n",
       "21  1349806307000  Que onda con mi celu.. Pongo musica y suena pu..."
      ]
     },
     "execution_count": 7,
     "metadata": {},
     "output_type": "execute_result"
    }
   ],
   "source": [
    "result.tweetsfromwork()[['created_at','text']].head()"
   ]
  },
  {
   "cell_type": "markdown",
   "metadata": {},
   "source": [
    "These are the most frequent locations and variables used as part of the home location algorithm"
   ]
  },
  {
   "cell_type": "code",
   "execution_count": 11,
   "metadata": {},
   "outputs": [
    {
     "data": {
      "text/html": [
       "<div>\n",
       "<style scoped>\n",
       "    .dataframe tbody tr th:only-of-type {\n",
       "        vertical-align: middle;\n",
       "    }\n",
       "\n",
       "    .dataframe tbody tr th {\n",
       "        vertical-align: top;\n",
       "    }\n",
       "\n",
       "    .dataframe thead th {\n",
       "        text-align: right;\n",
       "    }\n",
       "</style>\n",
       "<table border=\"1\" class=\"dataframe\">\n",
       "  <thead>\n",
       "    <tr style=\"text-align: right;\">\n",
       "      <th></th>\n",
       "      <th>lat</th>\n",
       "      <th>lon</th>\n",
       "      <th>freq</th>\n",
       "      <th>uniquehours</th>\n",
       "      <th>hourrange</th>\n",
       "      <th>night_freq</th>\n",
       "      <th>weekend_freq</th>\n",
       "      <th>geometry</th>\n",
       "      <th>distance</th>\n",
       "      <th>freqp1</th>\n",
       "      <th>pnight_freq</th>\n",
       "      <th>pweekend_freq</th>\n",
       "      <th>interactnightyweekend</th>\n",
       "      <th>pday_freq</th>\n",
       "      <th>pweekday_freq</th>\n",
       "      <th>interactdayyweekday</th>\n",
       "    </tr>\n",
       "  </thead>\n",
       "  <tbody>\n",
       "    <tr>\n",
       "      <th>0</th>\n",
       "      <td>-34.61</td>\n",
       "      <td>-58.84</td>\n",
       "      <td>154</td>\n",
       "      <td>15</td>\n",
       "      <td>23</td>\n",
       "      <td>63.0</td>\n",
       "      <td>81.0</td>\n",
       "      <td>POINT (-58.84 -34.61)</td>\n",
       "      <td>0.00000</td>\n",
       "      <td>1.000000</td>\n",
       "      <td>0.409091</td>\n",
       "      <td>0.525974</td>\n",
       "      <td>0.215171</td>\n",
       "      <td>0.590909</td>\n",
       "      <td>0.474026</td>\n",
       "      <td>0.280106</td>\n",
       "    </tr>\n",
       "    <tr>\n",
       "      <th>1</th>\n",
       "      <td>-34.65</td>\n",
       "      <td>-58.80</td>\n",
       "      <td>152</td>\n",
       "      <td>8</td>\n",
       "      <td>7</td>\n",
       "      <td>0.0</td>\n",
       "      <td>0.0</td>\n",
       "      <td>POINT (-58.8 -34.65)</td>\n",
       "      <td>627.50466</td>\n",
       "      <td>0.987013</td>\n",
       "      <td>0.000000</td>\n",
       "      <td>0.000000</td>\n",
       "      <td>0.000000</td>\n",
       "      <td>1.000000</td>\n",
       "      <td>1.000000</td>\n",
       "      <td>1.000000</td>\n",
       "    </tr>\n",
       "    <tr>\n",
       "      <th>2</th>\n",
       "      <td>-34.62</td>\n",
       "      <td>-58.84</td>\n",
       "      <td>64</td>\n",
       "      <td>13</td>\n",
       "      <td>23</td>\n",
       "      <td>35.0</td>\n",
       "      <td>12.0</td>\n",
       "      <td>POINT (-58.84 -34.62)</td>\n",
       "      <td>110.92820</td>\n",
       "      <td>0.415584</td>\n",
       "      <td>0.546875</td>\n",
       "      <td>0.187500</td>\n",
       "      <td>0.102539</td>\n",
       "      <td>0.453125</td>\n",
       "      <td>0.812500</td>\n",
       "      <td>0.368164</td>\n",
       "    </tr>\n",
       "  </tbody>\n",
       "</table>\n",
       "</div>"
      ],
      "text/plain": [
       "     lat    lon  freq  uniquehours  hourrange  night_freq  weekend_freq  \\\n",
       "0 -34.61 -58.84   154           15         23        63.0          81.0   \n",
       "1 -34.65 -58.80   152            8          7         0.0           0.0   \n",
       "2 -34.62 -58.84    64           13         23        35.0          12.0   \n",
       "\n",
       "                geometry   distance    freqp1  pnight_freq  pweekend_freq  \\\n",
       "0  POINT (-58.84 -34.61)    0.00000  1.000000     0.409091       0.525974   \n",
       "1   POINT (-58.8 -34.65)  627.50466  0.987013     0.000000       0.000000   \n",
       "2  POINT (-58.84 -34.62)  110.92820  0.415584     0.546875       0.187500   \n",
       "\n",
       "   interactnightyweekend  pday_freq  pweekday_freq  interactdayyweekday  \n",
       "0               0.215171   0.590909       0.474026             0.280106  \n",
       "1               0.000000   1.000000       1.000000             1.000000  \n",
       "2               0.102539   0.453125       0.812500             0.368164  "
      ]
     },
     "execution_count": 11,
     "metadata": {},
     "output_type": "execute_result"
    }
   ],
   "source": [
    "result.freqdfi"
   ]
  },
  {
   "cell_type": "markdown",
   "metadata": {},
   "source": [
    "This is an auxiliary function that plots tweets according to hour of the day "
   ]
  },
  {
   "cell_type": "code",
   "execution_count": 21,
   "metadata": {},
   "outputs": [
    {
     "data": {
      "image/png": "[encoded data removed]",
      "text/plain": [
       "<Figure size 360x360 with 1 Axes>"
      ]
     },
     "metadata": {
      "needs_background": "light"
     },
     "output_type": "display_data"
    },
    {
     "data": {
      "image/png": "[encoded data removed]",
      "text/plain": [
       "<Figure size 360x360 with 1 Axes>"
      ]
     },
     "metadata": {
      "needs_background": "light"
     },
     "output_type": "display_data"
    },
    {
     "data": {
      "image/png": "[encoded data removed]",
      "text/plain": [
       "<Figure size 360x360 with 1 Axes>"
      ]
     },
     "metadata": {
      "needs_background": "light"
     },
     "output_type": "display_data"
    },
    {
     "data": {
      "image/png": "[encoded data removed]",
      "text/plain": [
       "<Figure size 360x360 with 1 Axes>"
      ]
     },
     "metadata": {
      "needs_background": "light"
     },
     "output_type": "display_data"
    }
   ],
   "source": [
    "home.timeofdayplot(db,uid)"
   ]
  },
  {
   "cell_type": "markdown",
   "metadata": {},
   "source": [
    "# Find Home with method Hex\n",
    "\n",
    "This version of the function finds the home polygon. \n",
    "Currently does not support mapping\n"
   ]
  },
  {
   "cell_type": "code",
   "execution_count": 25,
   "metadata": {},
   "outputs": [
    {
     "name": "stderr",
     "output_type": "stream",
     "text": [
      "../home_location.py:135: FutureWarning: using a dict on a Series for aggregation\n",
      "is deprecated and will be removed in a future version\n",
      "  rangedfi = pd.concat([dfi.groupby(spatialgroup)['hour'].agg({'hourrange': lambda x: x.max() - x.min()})],\n",
      "/home/rickhunter/miniconda3/envs/twitteranalysis/lib/python3.6/site-packages/pyproj/crs.py:77: FutureWarning: '+init=<authority>:<code>' syntax is deprecated. '<authority>:<code>' is the preferred initialization method.\n",
      "  return _prepare_from_string(\" \".join(pjargs))\n"
     ]
    }
   ],
   "source": [
    "result=home.findhome(db,uid, method='hex9', map=False)"
   ]
  },
  {
   "cell_type": "code",
   "execution_count": 29,
   "metadata": {},
   "outputs": [
    {
     "data": {
      "text/html": [
       "<div>\n",
       "<style scoped>\n",
       "    .dataframe tbody tr th:only-of-type {\n",
       "        vertical-align: middle;\n",
       "    }\n",
       "\n",
       "    .dataframe tbody tr th {\n",
       "        vertical-align: top;\n",
       "    }\n",
       "\n",
       "    .dataframe thead th {\n",
       "        text-align: right;\n",
       "    }\n",
       "</style>\n",
       "<table border=\"1\" class=\"dataframe\">\n",
       "  <thead>\n",
       "    <tr style=\"text-align: right;\">\n",
       "      <th></th>\n",
       "      <th>hex9</th>\n",
       "      <th>freq</th>\n",
       "      <th>uniquehours</th>\n",
       "      <th>hourrange</th>\n",
       "      <th>night_freq</th>\n",
       "      <th>weekend_freq</th>\n",
       "      <th>freqp1</th>\n",
       "      <th>pnight_freq</th>\n",
       "      <th>pweekend_freq</th>\n",
       "      <th>interactnightyweekend</th>\n",
       "      <th>pday_freq</th>\n",
       "      <th>pweekday_freq</th>\n",
       "      <th>interactdayyweekday</th>\n",
       "    </tr>\n",
       "  </thead>\n",
       "  <tbody>\n",
       "    <tr>\n",
       "      <th>0</th>\n",
       "      <td>89dd6876007ffff</td>\n",
       "      <td>145</td>\n",
       "      <td>13</td>\n",
       "      <td>23</td>\n",
       "      <td>60.0</td>\n",
       "      <td>76.0</td>\n",
       "      <td>1.000000</td>\n",
       "      <td>0.413793</td>\n",
       "      <td>0.524138</td>\n",
       "      <td>0.216885</td>\n",
       "      <td>0.586207</td>\n",
       "      <td>0.475862</td>\n",
       "      <td>0.278954</td>\n",
       "    </tr>\n",
       "    <tr>\n",
       "      <th>1</th>\n",
       "      <td>89dd6876e27ffff</td>\n",
       "      <td>91</td>\n",
       "      <td>7</td>\n",
       "      <td>6</td>\n",
       "      <td>0.0</td>\n",
       "      <td>0.0</td>\n",
       "      <td>0.627586</td>\n",
       "      <td>0.000000</td>\n",
       "      <td>0.000000</td>\n",
       "      <td>0.000000</td>\n",
       "      <td>1.000000</td>\n",
       "      <td>1.000000</td>\n",
       "      <td>1.000000</td>\n",
       "    </tr>\n",
       "    <tr>\n",
       "      <th>2</th>\n",
       "      <td>89dd68768cbffff</td>\n",
       "      <td>61</td>\n",
       "      <td>7</td>\n",
       "      <td>7</td>\n",
       "      <td>0.0</td>\n",
       "      <td>0.0</td>\n",
       "      <td>0.420690</td>\n",
       "      <td>0.000000</td>\n",
       "      <td>0.000000</td>\n",
       "      <td>0.000000</td>\n",
       "      <td>1.000000</td>\n",
       "      <td>1.000000</td>\n",
       "      <td>1.000000</td>\n",
       "    </tr>\n",
       "    <tr>\n",
       "      <th>3</th>\n",
       "      <td>89dd6876033ffff</td>\n",
       "      <td>53</td>\n",
       "      <td>14</td>\n",
       "      <td>23</td>\n",
       "      <td>24.0</td>\n",
       "      <td>17.0</td>\n",
       "      <td>0.365517</td>\n",
       "      <td>0.452830</td>\n",
       "      <td>0.320755</td>\n",
       "      <td>0.145247</td>\n",
       "      <td>0.547170</td>\n",
       "      <td>0.679245</td>\n",
       "      <td>0.371663</td>\n",
       "    </tr>\n",
       "    <tr>\n",
       "      <th>4</th>\n",
       "      <td>89dd6876023ffff</td>\n",
       "      <td>19</td>\n",
       "      <td>2</td>\n",
       "      <td>19</td>\n",
       "      <td>13.0</td>\n",
       "      <td>0.0</td>\n",
       "      <td>0.131034</td>\n",
       "      <td>0.684211</td>\n",
       "      <td>0.000000</td>\n",
       "      <td>0.000000</td>\n",
       "      <td>0.315789</td>\n",
       "      <td>1.000000</td>\n",
       "      <td>0.315789</td>\n",
       "    </tr>\n",
       "  </tbody>\n",
       "</table>\n",
       "</div>"
      ],
      "text/plain": [
       "              hex9  freq  uniquehours  hourrange  night_freq  weekend_freq  \\\n",
       "0  89dd6876007ffff   145           13         23        60.0          76.0   \n",
       "1  89dd6876e27ffff    91            7          6         0.0           0.0   \n",
       "2  89dd68768cbffff    61            7          7         0.0           0.0   \n",
       "3  89dd6876033ffff    53           14         23        24.0          17.0   \n",
       "4  89dd6876023ffff    19            2         19        13.0           0.0   \n",
       "\n",
       "     freqp1  pnight_freq  pweekend_freq  interactnightyweekend  pday_freq  \\\n",
       "0  1.000000     0.413793       0.524138               0.216885   0.586207   \n",
       "1  0.627586     0.000000       0.000000               0.000000   1.000000   \n",
       "2  0.420690     0.000000       0.000000               0.000000   1.000000   \n",
       "3  0.365517     0.452830       0.320755               0.145247   0.547170   \n",
       "4  0.131034     0.684211       0.000000               0.000000   0.315789   \n",
       "\n",
       "   pweekday_freq  interactdayyweekday  \n",
       "0       0.475862             0.278954  \n",
       "1       1.000000             1.000000  \n",
       "2       1.000000             1.000000  \n",
       "3       0.679245             0.371663  \n",
       "4       1.000000             0.315789  "
      ]
     },
     "execution_count": 29,
     "metadata": {},
     "output_type": "execute_result"
    }
   ],
   "source": [
    "result.freqdfi"
   ]
  },
  {
   "cell_type": "code",
   "execution_count": 30,
   "metadata": {},
   "outputs": [
    {
     "data": {
      "text/plain": [
       "hex9                     89dd6876007ffff\n",
       "freq                                 145\n",
       "uniquehours                           13\n",
       "hourrange                             23\n",
       "night_freq                            60\n",
       "weekend_freq                          76\n",
       "freqp1                                 1\n",
       "pnight_freq                     0.413793\n",
       "pweekend_freq                   0.524138\n",
       "interactnightyweekend           0.216885\n",
       "Name: 0, dtype: object"
      ]
     },
     "execution_count": 30,
     "metadata": {},
     "output_type": "execute_result"
    }
   ],
   "source": [
    "result.homecoordinates"
   ]
  },
  {
   "cell_type": "code",
   "execution_count": 31,
   "metadata": {},
   "outputs": [
    {
     "data": {
      "text/plain": [
       "'89dd6876007ffff'"
      ]
     },
     "execution_count": 31,
     "metadata": {},
     "output_type": "execute_result"
    }
   ],
   "source": [
    "result.homecoordinates['hex9']"
   ]
  }
 ],
 "metadata": {
  "kernelspec": {
   "display_name": "Python 3",
   "language": "python",
   "name": "python3"
  },
  "language_info": {
   "codemirror_mode": {
    "name": "ipython",
    "version": 3
   },
   "file_extension": ".py",
   "mimetype": "text/x-python",
   "name": "python",
   "nbconvert_exporter": "python",
   "pygments_lexer": "ipython3",
   "version": "3.7.9"
  }
 },
 "nbformat": 4,
 "nbformat_minor": 2
}
